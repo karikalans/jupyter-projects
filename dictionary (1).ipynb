{
 "cells": [
  {
   "cell_type": "code",
   "execution_count": 3,
   "id": "7520a314-7ee4-4dfb-8c2a-ea5e41c13b28",
   "metadata": {},
   "outputs": [
    {
     "name": "stdout",
     "output_type": "stream",
     "text": [
      "{'name': 'John', 'age': 30, 'city': 'New York'}\n"
     ]
    }
   ],
   "source": [
    "my_dict = {\"name\": \"John\", \"age\": 30, \"city\": \"New York\"}\n",
    "print(my_dict)\n"
   ]
  },
  {
   "cell_type": "code",
   "execution_count": 5,
   "id": "81460e68-01ce-4baf-b50d-f6fd78625db5",
   "metadata": {},
   "outputs": [
    {
     "name": "stdout",
     "output_type": "stream",
     "text": [
      "John\n"
     ]
    }
   ],
   "source": [
    "value = my_dict[\"name\"]  # Returns 'John'\n",
    "print(value)\n"
   ]
  },
  {
   "cell_type": "code",
   "execution_count": 6,
   "id": "35b741e6-4843-479f-8052-dde778e3827b",
   "metadata": {},
   "outputs": [
    {
     "name": "stdout",
     "output_type": "stream",
     "text": [
      "30\n"
     ]
    }
   ],
   "source": [
    "value = my_dict.get(\"age\")\n",
    "print(value)"
   ]
  },
  {
   "cell_type": "code",
   "execution_count": 10,
   "id": "597c7fdb-9a96-4436-a79a-d81e77679b40",
   "metadata": {},
   "outputs": [
    {
     "name": "stdout",
     "output_type": "stream",
     "text": [
      "{'name': 'John', 'age': 30, 'city': 'New York', 'job': 'Developer'}\n"
     ]
    }
   ],
   "source": [
    "my_dict[\"job\"] = \"Developer\"\n",
    "print(my_dict)"
   ]
  },
  {
   "cell_type": "code",
   "execution_count": 12,
   "id": "876e0cc0-214c-4e5d-8f0c-3cde7fdbe2f6",
   "metadata": {},
   "outputs": [
    {
     "name": "stdout",
     "output_type": "stream",
     "text": [
      "{'name': 'John', 'age': 31, 'city': 'New York', 'job': 'Developer'}\n"
     ]
    }
   ],
   "source": [
    "my_dict[\"age\"] = 31\n",
    "print(my_dict)"
   ]
  },
  {
   "cell_type": "code",
   "execution_count": 19,
   "id": "a1d720f5-2ca1-4917-aafd-b2cecddf9a19",
   "metadata": {},
   "outputs": [
    {
     "name": "stdout",
     "output_type": "stream",
     "text": [
      "brand\n",
      "model\n",
      "year\n"
     ]
    }
   ],
   "source": [
    "thisdict =\t{\n",
    "  \"brand\": \"Ford\",\n",
    "  \"model\": \"Mustang\",\n",
    "  \"year\": 1964\n",
    "}\n",
    "for x in thisdict:\n",
    "  print(x)\n"
   ]
  },
  {
   "cell_type": "code",
   "execution_count": 21,
   "id": "dee41dfb-3918-405b-992e-a8391c61ef90",
   "metadata": {},
   "outputs": [
    {
     "name": "stdout",
     "output_type": "stream",
     "text": [
      "Ford\n",
      "Mustang\n",
      "1964\n"
     ]
    }
   ],
   "source": [
    "thisdict =\t{\n",
    "  \"brand\": \"Ford\",\n",
    "  \"model\": \"Mustang\",\n",
    "  \"year\": 1964\n",
    "}\n",
    "for x in thisdict.values():\n",
    "  print(x)\n"
   ]
  },
  {
   "cell_type": "code",
   "execution_count": 22,
   "id": "85b44e0b-04de-4d35-ae89-90b7e08c1d64",
   "metadata": {},
   "outputs": [
    {
     "name": "stdout",
     "output_type": "stream",
     "text": [
      "Key 'name' exists!\n",
      "Key 'city' does not exist.\n"
     ]
    }
   ],
   "source": [
    "my_dict = {\"name\": \"Alice\", \"age\": 25}\n",
    "\n",
    "# Check if \"name\" exists in the dictionary\n",
    "if \"name\" in my_dict:\n",
    "    print(\"Key 'name' exists!\")  # Output: Key 'name' exists!\n",
    "\n",
    "# Check if \"city\" exists\n",
    "if \"city\" not in my_dict:\n",
    "    print(\"Key 'city' does not exist.\")  # Output: Key 'city' does not exist.\n"
   ]
  },
  {
   "cell_type": "code",
   "execution_count": 23,
   "id": "f958da33-562b-4823-b520-8431e1798399",
   "metadata": {},
   "outputs": [
    {
     "name": "stdout",
     "output_type": "stream",
     "text": [
      "Emily\n",
      "2007\n"
     ]
    }
   ],
   "source": [
    "family = {\n",
    "    \"child1\": {\n",
    "        \"name\": \"Emily\",\n",
    "        \"year\": 2004\n",
    "    },\n",
    "    \"child2\": {\n",
    "        \"name\": \"Tobias\",\n",
    "        \"year\": 2007\n",
    "    },\n",
    "    \"child3\": {\n",
    "        \"name\": \"Linus\",\n",
    "        \"year\": 2011\n",
    "    }\n",
    "}\n",
    "\n",
    "# Accessing the nested dictionary\n",
    "print(family[\"child1\"][\"name\"])  # Output: Emily\n",
    "print(family[\"child2\"][\"year\"])  # Output: 2007\n"
   ]
  },
  {
   "cell_type": "code",
   "execution_count": 24,
   "id": "8212d375-3b20-4b99-8ca0-6ebf338eedbf",
   "metadata": {},
   "outputs": [
    {
     "name": "stdout",
     "output_type": "stream",
     "text": [
      "Dr. Einstein\n"
     ]
    }
   ],
   "source": [
    "university = {\n",
    "    \"Science\": {\n",
    "        \"Physics\": {\n",
    "            \"professor\": \"Dr. Einstein\",\n",
    "            \"students\": 100\n",
    "        },\n",
    "        \"Chemistry\": {\n",
    "            \"professor\": \"Dr. Curie\",\n",
    "            \"students\": 80\n",
    "        }\n",
    "    },\n",
    "    \"Arts\": {\n",
    "        \"History\": {\n",
    "            \"professor\": \"Dr. Smith\",\n",
    "            \"students\": 50\n",
    "        },\n",
    "        \"Literature\": {\n",
    "            \"professor\": \"Dr. Brown\",\n",
    "            \"students\": 60\n",
    "        }\n",
    "    }\n",
    "}\n",
    "\n",
    "# Accessing deeply nested elements\n",
    "print(university[\"Science\"][\"Physics\"][\"professor\"])  # Output: Dr. Einstein\n"
   ]
  },
  {
   "cell_type": "code",
   "execution_count": null,
   "id": "3e587536-d658-4a02-b764-0cf13bb94db9",
   "metadata": {},
   "outputs": [],
   "source": []
  }
 ],
 "metadata": {
  "kernelspec": {
   "display_name": "Python 3 (ipykernel)",
   "language": "python",
   "name": "python3"
  },
  "language_info": {
   "codemirror_mode": {
    "name": "ipython",
    "version": 3
   },
   "file_extension": ".py",
   "mimetype": "text/x-python",
   "name": "python",
   "nbconvert_exporter": "python",
   "pygments_lexer": "ipython3",
   "version": "3.12.6"
  }
 },
 "nbformat": 4,
 "nbformat_minor": 5
}
